{
 "cells": [
  {
   "cell_type": "markdown",
   "id": "02f3eb1d",
   "metadata": {
    "papermill": {
     "duration": 0.005808,
     "end_time": "2023-05-24T22:46:41.167109",
     "exception": false,
     "start_time": "2023-05-24T22:46:41.161301",
     "status": "completed"
    },
    "tags": []
   },
   "source": [
    "# Baseline Model\n",
    "\n",
    "Objectives:\n",
    "- Develop an initial baseline ML model to serve as a benchmark. \n",
    "- Use the competition-provided example notebook as a starting point. "
   ]
  },
  {
   "cell_type": "code",
   "execution_count": 1,
   "id": "15bba103",
   "metadata": {
    "execution": {
     "iopub.execute_input": "2023-05-24T22:46:41.179286Z",
     "iopub.status.busy": "2023-05-24T22:46:41.178607Z",
     "iopub.status.idle": "2023-05-24T22:46:42.860434Z",
     "shell.execute_reply": "2023-05-24T22:46:42.859669Z"
    },
    "papermill": {
     "duration": 1.690459,
     "end_time": "2023-05-24T22:46:42.862726",
     "exception": false,
     "start_time": "2023-05-24T22:46:41.172267",
     "status": "completed"
    },
    "tags": []
   },
   "outputs": [],
   "source": [
    "from sklearn.metrics import accuracy_score\n",
    "from sklearn.ensemble import RandomForestClassifier\n",
    "from sklearn.linear_model import LogisticRegression, RidgeClassifierCV\n",
    "from sklearn.pipeline import Pipeline\n",
    "from sklearn.model_selection import train_test_split, cross_val_score\n",
    "from sklearn.compose import ColumnTransformer\n",
    "from sklearn.preprocessing import OneHotEncoder, StandardScaler\n",
    "import sklearn\n",
    "import pandas as pd\n",
    "import numpy as np\n",
    "import matplotlib.pyplot as plt\n",
    "import seaborn as sns\n",
    "sns.set()"
   ]
  },
  {
   "cell_type": "markdown",
   "id": "173e2695",
   "metadata": {
    "papermill": {
     "duration": 0.004574,
     "end_time": "2023-05-24T22:46:42.872440",
     "exception": false,
     "start_time": "2023-05-24T22:46:42.867866",
     "status": "completed"
    },
    "tags": []
   },
   "source": [
    "### Exploratory Data Analysis"
   ]
  },
  {
   "cell_type": "code",
   "execution_count": 2,
   "id": "e39561b2",
   "metadata": {
    "execution": {
     "iopub.execute_input": "2023-05-24T22:46:42.884026Z",
     "iopub.status.busy": "2023-05-24T22:46:42.883494Z",
     "iopub.status.idle": "2023-05-24T22:48:12.782423Z",
     "shell.execute_reply": "2023-05-24T22:48:12.776217Z"
    },
    "papermill": {
     "duration": 89.907231,
     "end_time": "2023-05-24T22:48:12.784449",
     "exception": false,
     "start_time": "2023-05-24T22:46:42.877218",
     "status": "completed"
    },
    "tags": []
   },
   "outputs": [
    {
     "name": "stdout",
     "output_type": "stream",
     "text": [
      "Full train dataset shape is (26296946, 20)\n"
     ]
    }
   ],
   "source": [
    "# Reference: https://www.kaggle.com/competitions/predict-student-performance-from-game-play/discussion/384359\n",
    "dtypes={\n",
    "    'elapsed_time':np.int32,\n",
    "    'event_name':'category',\n",
    "    'name':'category',\n",
    "    'level':np.uint8,\n",
    "    'room_coor_x':np.float32,\n",
    "    'room_coor_y':np.float32,\n",
    "    'screen_coor_x':np.float32,\n",
    "    'screen_coor_y':np.float32,\n",
    "    'hover_duration':np.float32,\n",
    "    'text':'category',\n",
    "    'fqid':'category',\n",
    "    'room_fqid':'category',\n",
    "    'text_fqid':'category',\n",
    "    'fullscreen':'category',\n",
    "    'hq':'category',\n",
    "    'music':'category',\n",
    "    'level_group':'category'}\n",
    "\n",
    "dataset_df = pd.read_csv('/kaggle/input/predict-student-performance-from-game-play/train.csv', dtype=dtypes)\n",
    "print(\"Full train dataset shape is {}\".format(dataset_df.shape))"
   ]
  },
  {
   "cell_type": "code",
   "execution_count": 3,
   "id": "13aff9e6",
   "metadata": {
    "execution": {
     "iopub.execute_input": "2023-05-24T22:48:12.797735Z",
     "iopub.status.busy": "2023-05-24T22:48:12.796716Z",
     "iopub.status.idle": "2023-05-24T22:48:13.238747Z",
     "shell.execute_reply": "2023-05-24T22:48:13.237458Z"
    },
    "papermill": {
     "duration": 0.452083,
     "end_time": "2023-05-24T22:48:13.241622",
     "exception": false,
     "start_time": "2023-05-24T22:48:12.789539",
     "status": "completed"
    },
    "tags": []
   },
   "outputs": [
    {
     "data": {
      "text/plain": [
       "session_id        0.000000\n",
       "index             0.000000\n",
       "elapsed_time      0.000000\n",
       "event_name        0.000000\n",
       "name              0.000000\n",
       "level             0.000000\n",
       "page              0.978532\n",
       "room_coor_x       0.078841\n",
       "room_coor_y       0.078841\n",
       "screen_coor_x     0.078841\n",
       "screen_coor_y     0.078841\n",
       "hover_duration    0.923860\n",
       "text              0.634287\n",
       "fqid              0.314653\n",
       "room_fqid         0.000000\n",
       "text_fqid         0.634283\n",
       "fullscreen        0.000000\n",
       "hq                0.000000\n",
       "music             0.000000\n",
       "level_group       0.000000\n",
       "dtype: float64"
      ]
     },
     "execution_count": 3,
     "metadata": {},
     "output_type": "execute_result"
    }
   ],
   "source": [
    "# What fraction are nulls?\n",
    "dataset_df.isnull().mean()"
   ]
  },
  {
   "cell_type": "code",
   "execution_count": 4,
   "id": "50bec367",
   "metadata": {
    "execution": {
     "iopub.execute_input": "2023-05-24T22:48:13.254128Z",
     "iopub.status.busy": "2023-05-24T22:48:13.253755Z",
     "iopub.status.idle": "2023-05-24T22:48:14.188866Z",
     "shell.execute_reply": "2023-05-24T22:48:14.187534Z"
    },
    "papermill": {
     "duration": 0.944752,
     "end_time": "2023-05-24T22:48:14.191836",
     "exception": false,
     "start_time": "2023-05-24T22:48:13.247084",
     "status": "completed"
    },
    "tags": []
   },
   "outputs": [],
   "source": [
    "labels = pd.read_csv('/kaggle/input/predict-student-performance-from-game-play/train_labels.csv')\n",
    "labels['session'] = labels.session_id.apply(lambda x: int(x.split('_')[0]))\n",
    "labels['q'] = labels.session_id.apply(lambda x: int(x.split('_')[-1][1:]))"
   ]
  },
  {
   "cell_type": "code",
   "execution_count": 5,
   "id": "48e4009d",
   "metadata": {
    "execution": {
     "iopub.execute_input": "2023-05-24T22:48:14.204199Z",
     "iopub.status.busy": "2023-05-24T22:48:14.203835Z",
     "iopub.status.idle": "2023-05-24T22:48:14.224613Z",
     "shell.execute_reply": "2023-05-24T22:48:14.223402Z"
    },
    "papermill": {
     "duration": 0.029809,
     "end_time": "2023-05-24T22:48:14.227029",
     "exception": false,
     "start_time": "2023-05-24T22:48:14.197220",
     "status": "completed"
    },
    "tags": []
   },
   "outputs": [
    {
     "data": {
      "text/html": [
       "<div>\n",
       "<style scoped>\n",
       "    .dataframe tbody tr th:only-of-type {\n",
       "        vertical-align: middle;\n",
       "    }\n",
       "\n",
       "    .dataframe tbody tr th {\n",
       "        vertical-align: top;\n",
       "    }\n",
       "\n",
       "    .dataframe thead th {\n",
       "        text-align: right;\n",
       "    }\n",
       "</style>\n",
       "<table border=\"1\" class=\"dataframe\">\n",
       "  <thead>\n",
       "    <tr style=\"text-align: right;\">\n",
       "      <th></th>\n",
       "      <th>session_id</th>\n",
       "      <th>correct</th>\n",
       "      <th>session</th>\n",
       "      <th>q</th>\n",
       "    </tr>\n",
       "  </thead>\n",
       "  <tbody>\n",
       "    <tr>\n",
       "      <th>0</th>\n",
       "      <td>20090312431273200_q1</td>\n",
       "      <td>1</td>\n",
       "      <td>20090312431273200</td>\n",
       "      <td>1</td>\n",
       "    </tr>\n",
       "    <tr>\n",
       "      <th>1</th>\n",
       "      <td>20090312433251036_q1</td>\n",
       "      <td>0</td>\n",
       "      <td>20090312433251036</td>\n",
       "      <td>1</td>\n",
       "    </tr>\n",
       "    <tr>\n",
       "      <th>2</th>\n",
       "      <td>20090312455206810_q1</td>\n",
       "      <td>1</td>\n",
       "      <td>20090312455206810</td>\n",
       "      <td>1</td>\n",
       "    </tr>\n",
       "    <tr>\n",
       "      <th>3</th>\n",
       "      <td>20090313091715820_q1</td>\n",
       "      <td>0</td>\n",
       "      <td>20090313091715820</td>\n",
       "      <td>1</td>\n",
       "    </tr>\n",
       "    <tr>\n",
       "      <th>4</th>\n",
       "      <td>20090313571836404_q1</td>\n",
       "      <td>1</td>\n",
       "      <td>20090313571836404</td>\n",
       "      <td>1</td>\n",
       "    </tr>\n",
       "  </tbody>\n",
       "</table>\n",
       "</div>"
      ],
      "text/plain": [
       "             session_id  correct            session  q\n",
       "0  20090312431273200_q1        1  20090312431273200  1\n",
       "1  20090312433251036_q1        0  20090312433251036  1\n",
       "2  20090312455206810_q1        1  20090312455206810  1\n",
       "3  20090313091715820_q1        0  20090313091715820  1\n",
       "4  20090313571836404_q1        1  20090313571836404  1"
      ]
     },
     "execution_count": 5,
     "metadata": {},
     "output_type": "execute_result"
    }
   ],
   "source": [
    "# Inspect\n",
    "labels.head(5)"
   ]
  },
  {
   "cell_type": "code",
   "execution_count": 6,
   "id": "631d9058",
   "metadata": {
    "execution": {
     "iopub.execute_input": "2023-05-24T22:48:14.239496Z",
     "iopub.status.busy": "2023-05-24T22:48:14.239117Z",
     "iopub.status.idle": "2023-05-24T22:48:14.249394Z",
     "shell.execute_reply": "2023-05-24T22:48:14.248103Z"
    },
    "papermill": {
     "duration": 0.019468,
     "end_time": "2023-05-24T22:48:14.251914",
     "exception": false,
     "start_time": "2023-05-24T22:48:14.232446",
     "status": "completed"
    },
    "tags": []
   },
   "outputs": [
    {
     "data": {
      "text/plain": [
       "array([ 1,  2,  3,  4,  5,  6,  7,  8,  9, 10, 11, 12, 13, 14, 15, 16, 17,\n",
       "       18])"
      ]
     },
     "execution_count": 6,
     "metadata": {},
     "output_type": "execute_result"
    }
   ],
   "source": [
    "# Total # of questions\n",
    "labels['q'].unique()"
   ]
  },
  {
   "cell_type": "markdown",
   "id": "3bce430c",
   "metadata": {
    "papermill": {
     "duration": 0.005432,
     "end_time": "2023-05-24T22:48:14.263345",
     "exception": false,
     "start_time": "2023-05-24T22:48:14.257913",
     "status": "completed"
    },
    "tags": []
   },
   "source": [
    "**Objective:** Train models (maybe one for each question?) to predict the `correct` label (1 or 0) for each session."
   ]
  },
  {
   "cell_type": "code",
   "execution_count": 7,
   "id": "7408f1a3",
   "metadata": {
    "execution": {
     "iopub.execute_input": "2023-05-24T22:48:14.277777Z",
     "iopub.status.busy": "2023-05-24T22:48:14.276836Z",
     "iopub.status.idle": "2023-05-24T22:48:14.281408Z",
     "shell.execute_reply": "2023-05-24T22:48:14.280671Z"
    },
    "papermill": {
     "duration": 0.014217,
     "end_time": "2023-05-24T22:48:14.283191",
     "exception": false,
     "start_time": "2023-05-24T22:48:14.268974",
     "status": "completed"
    },
    "tags": []
   },
   "outputs": [],
   "source": [
    "CATEGORICAL = ['event_name', 'name', 'fqid', 'room_fqid', 'text_fqid']\n",
    "NUMERICAL = ['elapsed_time', 'level', 'page', 'room_coor_x', 'room_coor_y',\n",
    "             'screen_coor_x', 'screen_coor_y', 'hover_duration']"
   ]
  },
  {
   "cell_type": "code",
   "execution_count": 8,
   "id": "707e72b1",
   "metadata": {
    "execution": {
     "iopub.execute_input": "2023-05-24T22:48:14.295851Z",
     "iopub.status.busy": "2023-05-24T22:48:14.295286Z",
     "iopub.status.idle": "2023-05-24T22:48:14.302884Z",
     "shell.execute_reply": "2023-05-24T22:48:14.301561Z"
    },
    "papermill": {
     "duration": 0.016609,
     "end_time": "2023-05-24T22:48:14.305437",
     "exception": false,
     "start_time": "2023-05-24T22:48:14.288828",
     "status": "completed"
    },
    "tags": []
   },
   "outputs": [],
   "source": [
    "# Reference: https://www.kaggle.com/code/cdeotte/random-forest-baseline-0-664/notebook\n",
    "\n",
    "def feature_engineer(dataset_df):\n",
    "    dfs = []\n",
    "    for c in CATEGORICAL:\n",
    "        tmp = dataset_df.groupby(['session_id', 'level_group'])[\n",
    "            c].agg('nunique')\n",
    "        tmp.name = tmp.name + '_nunique'\n",
    "        dfs.append(tmp)\n",
    "    for c in NUMERICAL:\n",
    "        tmp = dataset_df.groupby(['session_id', 'level_group'])[c].agg('mean')\n",
    "        dfs.append(tmp)\n",
    "    for c in NUMERICAL:\n",
    "        tmp = dataset_df.groupby(['session_id', 'level_group'])[c].agg('std')\n",
    "        tmp.name = tmp.name + '_std'\n",
    "        dfs.append(tmp)\n",
    "    dataset_df = pd.concat(dfs, axis=1)\n",
    "    dataset_df = dataset_df.fillna(-1)\n",
    "    dataset_df = dataset_df.reset_index()\n",
    "    dataset_df = dataset_df.set_index('session_id')\n",
    "    return dataset_df"
   ]
  },
  {
   "cell_type": "code",
   "execution_count": 9,
   "id": "fdc8e662",
   "metadata": {
    "execution": {
     "iopub.execute_input": "2023-05-24T22:48:14.319219Z",
     "iopub.status.busy": "2023-05-24T22:48:14.318447Z",
     "iopub.status.idle": "2023-05-24T22:48:40.457714Z",
     "shell.execute_reply": "2023-05-24T22:48:40.455915Z"
    },
    "papermill": {
     "duration": 26.149121,
     "end_time": "2023-05-24T22:48:40.460390",
     "exception": false,
     "start_time": "2023-05-24T22:48:14.311269",
     "status": "completed"
    },
    "tags": []
   },
   "outputs": [
    {
     "name": "stdout",
     "output_type": "stream",
     "text": [
      "Full prepared dataset shape: (70686, 22)\n"
     ]
    }
   ],
   "source": [
    "df = feature_engineer(dataset_df)\n",
    "print(\"Full prepared dataset shape: {}\".format(df.shape))"
   ]
  },
  {
   "cell_type": "code",
   "execution_count": 10,
   "id": "6adc0d46",
   "metadata": {
    "execution": {
     "iopub.execute_input": "2023-05-24T22:48:40.475052Z",
     "iopub.status.busy": "2023-05-24T22:48:40.474386Z",
     "iopub.status.idle": "2023-05-24T22:48:40.495276Z",
     "shell.execute_reply": "2023-05-24T22:48:40.493864Z"
    },
    "papermill": {
     "duration": 0.031673,
     "end_time": "2023-05-24T22:48:40.497879",
     "exception": false,
     "start_time": "2023-05-24T22:48:40.466206",
     "status": "completed"
    },
    "tags": []
   },
   "outputs": [
    {
     "name": "stdout",
     "output_type": "stream",
     "text": [
      "<class 'pandas.core.frame.DataFrame'>\n",
      "Int64Index: 70686 entries, 20090312431273200 to 22100221145014656\n",
      "Data columns (total 22 columns):\n",
      " #   Column              Non-Null Count  Dtype   \n",
      "---  ------              --------------  -----   \n",
      " 0   level_group         70686 non-null  category\n",
      " 1   event_name_nunique  70686 non-null  int64   \n",
      " 2   name_nunique        70686 non-null  int64   \n",
      " 3   fqid_nunique        70686 non-null  int64   \n",
      " 4   room_fqid_nunique   70686 non-null  int64   \n",
      " 5   text_fqid_nunique   70686 non-null  int64   \n",
      " 6   elapsed_time        70686 non-null  float64 \n",
      " 7   level               70686 non-null  float64 \n",
      " 8   page                70686 non-null  float64 \n",
      " 9   room_coor_x         70686 non-null  float32 \n",
      " 10  room_coor_y         70686 non-null  float32 \n",
      " 11  screen_coor_x       70686 non-null  float32 \n",
      " 12  screen_coor_y       70686 non-null  float32 \n",
      " 13  hover_duration      70686 non-null  float32 \n",
      " 14  elapsed_time_std    70686 non-null  float64 \n",
      " 15  level_std           70686 non-null  float64 \n",
      " 16  page_std            70686 non-null  float64 \n",
      " 17  room_coor_x_std     70686 non-null  float64 \n",
      " 18  room_coor_y_std     70686 non-null  float64 \n",
      " 19  screen_coor_x_std   70686 non-null  float64 \n",
      " 20  screen_coor_y_std   70686 non-null  float64 \n",
      " 21  hover_duration_std  70686 non-null  float64 \n",
      "dtypes: category(1), float32(5), float64(11), int64(5)\n",
      "memory usage: 10.6 MB\n"
     ]
    }
   ],
   "source": [
    "# Inspect\n",
    "df.info()"
   ]
  },
  {
   "cell_type": "code",
   "execution_count": 11,
   "id": "cc5d66cc",
   "metadata": {
    "execution": {
     "iopub.execute_input": "2023-05-24T22:48:40.511517Z",
     "iopub.status.busy": "2023-05-24T22:48:40.511010Z",
     "iopub.status.idle": "2023-05-24T22:48:40.570399Z",
     "shell.execute_reply": "2023-05-24T22:48:40.569217Z"
    },
    "papermill": {
     "duration": 0.069668,
     "end_time": "2023-05-24T22:48:40.573487",
     "exception": false,
     "start_time": "2023-05-24T22:48:40.503819",
     "status": "completed"
    },
    "tags": []
   },
   "outputs": [
    {
     "name": "stdout",
     "output_type": "stream",
     "text": [
      "56547 examples in training, 14139 examples in testing.\n"
     ]
    }
   ],
   "source": [
    "def split_dataset(dataset, test_ratio=0.20):\n",
    "    USER_LIST = dataset.index.unique()\n",
    "    split = int(len(USER_LIST) * (1 - 0.20))\n",
    "    return dataset.loc[USER_LIST[:split]], dataset.loc[USER_LIST[split:]]\n",
    "\n",
    "\n",
    "train_x, valid_x = split_dataset(df)\n",
    "print(\"{} examples in training, {} examples in testing.\".format(\n",
    "    len(train_x), len(valid_x)))"
   ]
  },
  {
   "cell_type": "code",
   "execution_count": 12,
   "id": "2cd66c6c",
   "metadata": {
    "execution": {
     "iopub.execute_input": "2023-05-24T22:48:40.587195Z",
     "iopub.status.busy": "2023-05-24T22:48:40.586811Z",
     "iopub.status.idle": "2023-05-24T22:48:40.593239Z",
     "shell.execute_reply": "2023-05-24T22:48:40.592442Z"
    },
    "papermill": {
     "duration": 0.016037,
     "end_time": "2023-05-24T22:48:40.595566",
     "exception": false,
     "start_time": "2023-05-24T22:48:40.579529",
     "status": "completed"
    },
    "tags": []
   },
   "outputs": [],
   "source": [
    "# Fetch the unique list of user sessions in the validation dataset. We assigned\n",
    "# `session_id` as the index of our feature engineered dataset. Hence fetching\n",
    "# the unique values in the index column will give us a list of users in the\n",
    "# validation set.\n",
    "VALID_USER_LIST = valid_x.index.unique()\n",
    "\n",
    "# Create a dataframe for storing the predictions of each question for all users\n",
    "# in the validation set.\n",
    "# For this, the required size of the data frame is:\n",
    "# (no: of users in validation set  x no of questions).\n",
    "# We will initialize all the predicted values in the data frame to zero.\n",
    "# The dataframe's index column is the user `session_id`s.\n",
    "prediction_df = pd.DataFrame(data=np.zeros(\n",
    "    (len(VALID_USER_LIST), 18)), index=VALID_USER_LIST)\n",
    "\n",
    "# Create an empty dictionary to store the models created for each question.\n",
    "models = {}\n",
    "\n",
    "# Create an empty dictionary to store the evaluation score for each question.\n",
    "evaluation_dict = {}"
   ]
  },
  {
   "cell_type": "code",
   "execution_count": 13,
   "id": "9a8e0e4e",
   "metadata": {
    "execution": {
     "iopub.execute_input": "2023-05-24T22:48:40.611646Z",
     "iopub.status.busy": "2023-05-24T22:48:40.609946Z",
     "iopub.status.idle": "2023-05-24T22:50:50.996556Z",
     "shell.execute_reply": "2023-05-24T22:50:50.994951Z"
    },
    "papermill": {
     "duration": 130.398227,
     "end_time": "2023-05-24T22:50:51.000179",
     "exception": false,
     "start_time": "2023-05-24T22:48:40.601952",
     "status": "completed"
    },
    "tags": []
   },
   "outputs": [
    {
     "name": "stdout",
     "output_type": "stream",
     "text": [
      "### q_no 1 grp 0-4\n",
      "### q_no 2 grp 0-4\n",
      "### q_no 3 grp 0-4\n",
      "### q_no 4 grp 5-12\n",
      "### q_no 5 grp 5-12\n",
      "### q_no 6 grp 5-12\n",
      "### q_no 7 grp 5-12\n",
      "### q_no 8 grp 5-12\n",
      "### q_no 9 grp 5-12\n",
      "### q_no 10 grp 5-12\n",
      "### q_no 11 grp 5-12\n",
      "### q_no 12 grp 5-12\n",
      "### q_no 13 grp 5-12\n",
      "### q_no 14 grp 13-22\n",
      "### q_no 15 grp 13-22\n",
      "### q_no 16 grp 13-22\n",
      "### q_no 17 grp 13-22\n",
      "### q_no 18 grp 13-22\n"
     ]
    }
   ],
   "source": [
    "# Iterate through questions 1 to 18 to train models for each question, evaluate\n",
    "# the trained model and store the predicted values.\n",
    "for q_no in range(1, 19):\n",
    "\n",
    "    # Select level group for the question based on the q_no.\n",
    "    if q_no <= 3:\n",
    "        grp = '0-4'\n",
    "    elif q_no <= 13:\n",
    "        grp = '5-12'\n",
    "    elif q_no <= 22:\n",
    "        grp = '13-22'\n",
    "    print(\"### q_no\", q_no, \"grp\", grp)\n",
    "\n",
    "    # Filter the rows in the datasets based on the selected level group.\n",
    "    train_df = train_x.loc[train_x.level_group == grp]\n",
    "    train_users = train_df.index.values\n",
    "    valid_df = valid_x.loc[valid_x.level_group == grp]\n",
    "    valid_users = valid_df.index.values\n",
    "\n",
    "    # Select the labels for the related q_no.\n",
    "    train_labels = labels.loc[labels.q == q_no].set_index(\n",
    "        'session').loc[train_users]\n",
    "    valid_labels = labels.loc[labels.q == q_no].set_index(\n",
    "        'session').loc[valid_users]\n",
    "\n",
    "    # Add the label to the filtered datasets.\n",
    "    # train_df[\"correct\"] = train_labels[\"correct\"]\n",
    "    # valid_df[\"correct\"] = valid_labels[\"correct\"]\n",
    "\n",
    "    # Model pipeline\n",
    "    features = list(train_df.columns)\n",
    "    cat_features = ['level_group']\n",
    "    num_features = [f for f in features if f not in cat_features]\n",
    "\n",
    "    ohe = ColumnTransformer([\n",
    "        ('ohe_features', OneHotEncoder(), cat_features),\n",
    "        ('scaled_num', StandardScaler(), num_features)\n",
    "    ])\n",
    "\n",
    "    pipe = Pipeline([('ohe', ohe),\n",
    "                    ('est', RandomForestClassifier())])\n",
    "\n",
    "    # Train\n",
    "    model = pipe.fit(train_df, train_labels['correct'])\n",
    "\n",
    "    # Store the model\n",
    "    models[f'{grp}_{q_no}'] = model\n",
    "\n",
    "    # Evaluate the trained model on the validation dataset and store the\n",
    "    # evaluation accuracy in the `evaluation_dict`.\n",
    "    evaluation_dict[q_no] = accuracy_score(\n",
    "        valid_labels['correct'], model.predict(valid_df))\n",
    "\n",
    "    # Use the trained model to make predictions on the validation dataset and\n",
    "    # store the predicted values in the `prediction_df` dataframe.\n",
    "    predict = model.predict(valid_df)\n",
    "    prediction_df.loc[valid_users, q_no-1] = predict.flatten()\n",
    "\n",
    "    #"
   ]
  },
  {
   "cell_type": "markdown",
   "id": "65ec292a",
   "metadata": {
    "papermill": {
     "duration": 0.006184,
     "end_time": "2023-05-24T22:50:51.013352",
     "exception": false,
     "start_time": "2023-05-24T22:50:51.007168",
     "status": "completed"
    },
    "tags": []
   },
   "source": [
    "### Inspect Accuracy of Individual Models"
   ]
  },
  {
   "cell_type": "code",
   "execution_count": 14,
   "id": "9454a643",
   "metadata": {
    "execution": {
     "iopub.execute_input": "2023-05-24T22:50:51.029719Z",
     "iopub.status.busy": "2023-05-24T22:50:51.028588Z",
     "iopub.status.idle": "2023-05-24T22:50:51.035028Z",
     "shell.execute_reply": "2023-05-24T22:50:51.033544Z"
    },
    "papermill": {
     "duration": 0.016606,
     "end_time": "2023-05-24T22:50:51.037029",
     "exception": false,
     "start_time": "2023-05-24T22:50:51.020423",
     "status": "completed"
    },
    "tags": []
   },
   "outputs": [
    {
     "name": "stdout",
     "output_type": "stream",
     "text": [
      "question 1: accuracy 0.7305\n",
      "question 2: accuracy 0.9756\n",
      "question 3: accuracy 0.9353\n",
      "question 4: accuracy 0.7938\n",
      "question 5: accuracy 0.6132\n",
      "question 6: accuracy 0.7885\n",
      "question 7: accuracy 0.7481\n",
      "question 8: accuracy 0.6274\n",
      "question 9: accuracy 0.7660\n",
      "question 10: accuracy 0.5916\n",
      "question 11: accuracy 0.6510\n",
      "question 12: accuracy 0.8699\n",
      "question 13: accuracy 0.7182\n",
      "question 14: accuracy 0.7316\n",
      "question 15: accuracy 0.5952\n",
      "question 16: accuracy 0.7450\n",
      "question 17: accuracy 0.6964\n",
      "question 18: accuracy 0.9514\n",
      "\n",
      "Average accuracy 0.7515854492302614\n"
     ]
    }
   ],
   "source": [
    "for name, value in evaluation_dict.items():\n",
    "    print(f\"question {name}: accuracy {value:.4f}\")\n",
    "\n",
    "print(\"\\nAverage accuracy\", sum(evaluation_dict.values())/18)"
   ]
  },
  {
   "cell_type": "markdown",
   "id": "5899a995",
   "metadata": {
    "papermill": {
     "duration": 0.006666,
     "end_time": "2023-05-24T22:50:51.050228",
     "exception": false,
     "start_time": "2023-05-24T22:50:51.043562",
     "status": "completed"
    },
    "tags": []
   },
   "source": [
    "### Generate Submission"
   ]
  },
  {
   "cell_type": "code",
   "execution_count": 15,
   "id": "9ca14c0d",
   "metadata": {
    "execution": {
     "iopub.execute_input": "2023-05-24T22:50:51.065485Z",
     "iopub.status.busy": "2023-05-24T22:50:51.064754Z",
     "iopub.status.idle": "2023-05-24T22:50:51.095084Z",
     "shell.execute_reply": "2023-05-24T22:50:51.093801Z"
    },
    "papermill": {
     "duration": 0.040362,
     "end_time": "2023-05-24T22:50:51.097227",
     "exception": false,
     "start_time": "2023-05-24T22:50:51.056865",
     "status": "completed"
    },
    "tags": []
   },
   "outputs": [],
   "source": [
    "import jo_wilder\n",
    "env = jo_wilder.make_env()\n",
    "iter_test = env.iter_test()"
   ]
  },
  {
   "cell_type": "code",
   "execution_count": 16,
   "id": "5f1a98e7",
   "metadata": {
    "execution": {
     "iopub.execute_input": "2023-05-24T22:50:51.113609Z",
     "iopub.status.busy": "2023-05-24T22:50:51.112915Z",
     "iopub.status.idle": "2023-05-24T22:50:52.167476Z",
     "shell.execute_reply": "2023-05-24T22:50:52.165631Z"
    },
    "papermill": {
     "duration": 1.066937,
     "end_time": "2023-05-24T22:50:52.171463",
     "exception": false,
     "start_time": "2023-05-24T22:50:51.104526",
     "status": "completed"
    },
    "tags": []
   },
   "outputs": [
    {
     "name": "stdout",
     "output_type": "stream",
     "text": [
      "This version of the API is not optimized and should not be used to estimate the runtime of your code on the hidden test set.\n"
     ]
    }
   ],
   "source": [
    "# Reference\n",
    "# https://www.kaggle.com/code/philculliton/basic-submission-demo\n",
    "# https://www.kaggle.com/code/cdeotte/random-forest-baseline-0-664/notebook\n",
    "\n",
    "limits = {'0-4':(1,4), '5-12':(4,14), '13-22':(14,19)}\n",
    "\n",
    "for (test, sample_submission) in iter_test:\n",
    "    test_df = feature_engineer(test)\n",
    "    grp = test_df.level_group.values[0]\n",
    "    a,b = limits[grp]\n",
    "    for t in range(a,b):\n",
    "        model = models[f'{grp}_{t}']\n",
    "        predictions = model.predict(test_df)\n",
    "        mask = sample_submission.session_id.str.contains(f'q{t}')\n",
    "        sample_submission.loc[mask,'correct'] = predictions.flatten()\n",
    "    \n",
    "    env.predict(sample_submission)"
   ]
  },
  {
   "cell_type": "code",
   "execution_count": 17,
   "id": "e18e545c",
   "metadata": {
    "execution": {
     "iopub.execute_input": "2023-05-24T22:50:52.188554Z",
     "iopub.status.busy": "2023-05-24T22:50:52.188200Z",
     "iopub.status.idle": "2023-05-24T22:50:52.476033Z",
     "shell.execute_reply": "2023-05-24T22:50:52.475083Z"
    },
    "papermill": {
     "duration": 0.299466,
     "end_time": "2023-05-24T22:50:52.478499",
     "exception": false,
     "start_time": "2023-05-24T22:50:52.179033",
     "status": "completed"
    },
    "tags": []
   },
   "outputs": [
    {
     "name": "stdout",
     "output_type": "stream",
     "text": [
      "session_id,correct\r\n",
      "20090109393214576_q1,1\r\n",
      "20090109393214576_q2,1\r\n",
      "20090109393214576_q3,1\r\n",
      "20090109393214576_q4,1\r\n",
      "20090109393214576_q5,1\r\n",
      "20090109393214576_q6,1\r\n",
      "20090109393214576_q7,1\r\n",
      "20090109393214576_q8,1\r\n",
      "20090109393214576_q9,1\r\n"
     ]
    }
   ],
   "source": [
    "! head submission.csv"
   ]
  },
  {
   "cell_type": "code",
   "execution_count": null,
   "id": "a4e5ef80",
   "metadata": {
    "papermill": {
     "duration": 0.00655,
     "end_time": "2023-05-24T22:50:52.492111",
     "exception": false,
     "start_time": "2023-05-24T22:50:52.485561",
     "status": "completed"
    },
    "tags": []
   },
   "outputs": [],
   "source": []
  }
 ],
 "metadata": {
  "kernelspec": {
   "display_name": "Python 3",
   "language": "python",
   "name": "python3"
  },
  "language_info": {
   "codemirror_mode": {
    "name": "ipython",
    "version": 3
   },
   "file_extension": ".py",
   "mimetype": "text/x-python",
   "name": "python",
   "nbconvert_exporter": "python",
   "pygments_lexer": "ipython3",
   "version": "3.7.12"
  },
  "papermill": {
   "default_parameters": {},
   "duration": 262.46522,
   "end_time": "2023-05-24T22:50:53.421194",
   "environment_variables": {},
   "exception": null,
   "input_path": "__notebook__.ipynb",
   "output_path": "__notebook__.ipynb",
   "parameters": {},
   "start_time": "2023-05-24T22:46:30.955974",
   "version": "2.4.0"
  }
 },
 "nbformat": 4,
 "nbformat_minor": 5
}
